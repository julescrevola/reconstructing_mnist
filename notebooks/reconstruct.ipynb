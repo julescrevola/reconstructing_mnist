{
 "cells": [
  {
   "cell_type": "markdown",
   "metadata": {},
   "source": [
    "## Loading the corrupted dataset"
   ]
  },
  {
   "cell_type": "code",
   "execution_count": null,
   "metadata": {},
   "outputs": [],
   "source": [
    "import numpy as np\n",
    "import zipfile\n",
    "import matplotlib.pyplot as plt\n",
    "\n",
    "# Open and extract images from the .zip file\n",
    "def load_images_from_zip(zip_filename):\n",
    "    \"\"\"\n",
    "    Load a numpy array from a .zip archive containing a .npz file.\n",
    "\n",
    "    Args:\n",
    "        zip_filename (str): The name of the .zip file to read.\n",
    "\n",
    "    Returns:\n",
    "        numpy.ndarray: The loaded array.\n",
    "    \"\"\"\n",
    "    with zipfile.ZipFile(zip_filename, 'r') as zipf:\n",
    "        npz_filename = zipf.namelist()[0]  # Get the name of the .npz file\n",
    "        zipf.extract(npz_filename)  # Extract the .npz file\n",
    "    data = np.load(npz_filename)['all_imagesfinal']  # Load the array\n",
    "    return data\n",
    "\n",
    "# Example usage\n",
    "loaded_images = load_images_from_zip('../data/corrupted_emnist.zip')\n",
    "\n",
    "# Show the first 5 images\n",
    "for i in range(5):\n",
    "    plt.imshow(loaded_images[i], cmap='gray')\n",
    "    plt.title(f\"Image {i+1}\")\n",
    "    plt.axis('off')\n",
    "    plt.show()"
   ]
  }
 ],
 "metadata": {
  "language_info": {
   "name": "python"
  }
 },
 "nbformat": 4,
 "nbformat_minor": 2
}
